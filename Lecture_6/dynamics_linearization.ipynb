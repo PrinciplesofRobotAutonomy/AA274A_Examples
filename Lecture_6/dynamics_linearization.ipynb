{
  "nbformat": 4,
  "nbformat_minor": 0,
  "metadata": {
    "colab": {
      "provenance": []
    },
    "kernelspec": {
      "name": "python3",
      "display_name": "Python 3"
    },
    "language_info": {
      "name": "python"
    }
  },
  "cells": [
    {
      "cell_type": "markdown",
      "source": [
        "# Dynamics linearization"
      ],
      "metadata": {
        "id": "Mzfuee0Qcccb"
      }
    },
    {
      "cell_type": "code",
      "source": [
        "import jax\n",
        "import jax.numpy as jnp"
      ],
      "metadata": {
        "id": "mA8dqTzMLHZi"
      },
      "execution_count": null,
      "outputs": []
    },
    {
      "cell_type": "markdown",
      "source": [
        "**Define the dynamics**"
      ],
      "metadata": {
        "id": "a75Ce94qNtef"
      }
    },
    {
      "cell_type": "code",
      "source": [
        "def f(x, u):\n",
        "\tA = jnp.eye(3)\n",
        "\tB = jnp.array([\n",
        "\t\t\t[1, 2],\n",
        "\t\t\t[3, 4],\n",
        "\t\t\t[5, 6]\n",
        "\t\t\t])\n",
        "\tx_dot = A @ x + B @ u\n",
        "\treturn x_dot"
      ],
      "metadata": {
        "id": "_e0eXlywc2Qu"
      },
      "execution_count": null,
      "outputs": []
    },
    {
      "cell_type": "markdown",
      "source": [
        "**Linearize the dynamics**"
      ],
      "metadata": {
        "id": "mqdfekMjN8af"
      }
    },
    {
      "cell_type": "code",
      "source": [
        "f_dxu = jax.jacobian(\n",
        "  f, argnums=(0, 1))\n",
        "x = jnp.ones(3)\n",
        "u = jnp.ones(2)\n",
        "A, B = f_dxu(x, u)\n",
        "print(A)\n",
        "print(B)"
      ],
      "metadata": {
        "id": "WFVkj-Z3LQUC",
        "colab": {
          "base_uri": "https://localhost:8080/"
        },
        "outputId": "1dad7077-841d-4a5d-9fff-a1ab22977d0f"
      },
      "execution_count": null,
      "outputs": [
        {
          "output_type": "stream",
          "name": "stdout",
          "text": [
            "[[1. 0. 0.]\n",
            " [0. 1. 0.]\n",
            " [0. 0. 1.]]\n",
            "[[1. 2.]\n",
            " [3. 4.]\n",
            " [5. 6.]]\n"
          ]
        }
      ]
    },
    {
      "cell_type": "code",
      "source": [],
      "metadata": {
        "id": "nR9lIaKjMYIk"
      },
      "execution_count": null,
      "outputs": []
    }
  ]
}